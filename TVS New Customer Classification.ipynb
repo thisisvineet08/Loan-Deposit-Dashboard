{
 "cells": [
  {
   "cell_type": "code",
   "execution_count": 1,
   "id": "d649dbce-4a35-4d7f-8dfb-7b3ba7e1bbbe",
   "metadata": {},
   "outputs": [
    {
     "name": "stdout",
     "output_type": "stream",
     "text": [
      "Loading data from loan_data.csv...\n",
      "Preparing data for NEW CUSTOMER model...\n"
     ]
    }
   ],
   "source": [
    "import pandas as pd\n",
    "import joblib\n",
    "from sklearn.model_selection import train_test_split\n",
    "from sklearn.metrics import accuracy_score, classification_report\n",
    "\n",
    "# --- 1. Load Data From CSV File ---\n",
    "print(\"Loading data from loan_data.csv...\")\n",
    "try:\n",
    "    df = pd.read_csv('Loan_Entry.csv')\n",
    "except FileNotFoundError:\n",
    "    print(\"Error: 'loan_data.csv' not found. Please make sure the CSV file is in the same folder as this script.\")\n",
    "    exit()\n",
    "\n",
    "# --- 2. Prepare the Data for Modeling (New Customer Focus) ---\n",
    "print(\"Preparing data for NEW CUSTOMER model...\")\n",
    "# Drop columns not needed or not suitable for this model\n",
    "df_prepared = df.drop(columns=['CustomerID', 'Location','MissedPayments','DelaysDays','PartialPayments','InteractionAttempts','SentimentScore','ResponseTimeHours','AppUsageFrequency','WebsiteVisits','Complaints'])\n",
    "\n",
    "# *** Select ONLY features available for a NEW customer ***\n",
    "core_features = [\n",
    "    'Age',\n",
    "    'Income',\n",
    "    'EmploymentStatus',\n",
    "    'LoanAmount',\n",
    "    'TenureMonths',\n",
    "    'LoanType',\n",
    "    'InterestRate',\n",
    "    'Target' # Keep target for splitting\n",
    "]\n",
    "df_model = df_prepared[core_features].copy()"
   ]
  },
  {
   "cell_type": "code",
   "execution_count": 2,
   "id": "adb8e050-916f-4d42-9120-f3a7cc479cbb",
   "metadata": {},
   "outputs": [],
   "source": [
    "from sklearn.ensemble import RandomForestClassifier"
   ]
  },
  {
   "cell_type": "code",
   "execution_count": 3,
   "id": "1d69c153-42e3-4725-a64c-ff153a08faac",
   "metadata": {},
   "outputs": [],
   "source": [
    "from sklearn.model_selection import train_test_split, GridSearchCV"
   ]
  },
  {
   "cell_type": "code",
   "execution_count": 4,
   "id": "2fc9b44c-c367-486e-8b77-df57de32ecc1",
   "metadata": {},
   "outputs": [
    {
     "name": "stdout",
     "output_type": "stream",
     "text": [
      "Splitting data and finding the best model parameters with Grid Search...\n",
      "Fitting 3 folds for each of 16 candidates, totalling 48 fits\n",
      "\n",
      "Best parameters found: {'max_depth': 20, 'min_samples_leaf': 1, 'min_samples_split': 2, 'n_estimators': 200}\n",
      "\n",
      "--- Model Evaluation (using best model) ---\n",
      "Model Accuracy on Test Data: 89.00%\n",
      "\n",
      "Classification Report:\n",
      "              precision    recall  f1-score   support\n",
      "\n",
      "           0       0.89      0.90      0.89       203\n",
      "           1       0.89      0.88      0.89       197\n",
      "\n",
      "    accuracy                           0.89       400\n",
      "   macro avg       0.89      0.89      0.89       400\n",
      "weighted avg       0.89      0.89      0.89       400\n",
      "\n",
      "------------------------\n",
      "\n",
      "Training the final model on all data using the best parameters...\n",
      "Final 'New Customer' model (Optimized Random Forest) and columns have been saved successfully!\n",
      "You can now run the 'dashboard.py' file.\n"
     ]
    }
   ],
   "source": [
    "# Feature Engineering on the selected data\n",
    "df_model['DTI_Ratio'] = df_model['LoanAmount'] / df_model['Income']\n",
    "df_model['Loan_Burden_Index'] = (df_model['LoanAmount'] * df_model['InterestRate']) / df_model['TenureMonths']\n",
    "\n",
    "# *** THE FIX: Drop raw features to force model to use the more meaningful engineered ones ***\n",
    "df_model = df_model.drop(columns=['LoanAmount', 'Income'])\n",
    "\n",
    "\n",
    "X = df_model.drop(columns=['Target'])\n",
    "y = df_model['Target']\n",
    "\n",
    "# Switched to drop_first=False to ensure all categories are handled consistently\n",
    "X_encoded = pd.get_dummies(X, columns=['EmploymentStatus','LoanType'], drop_first=True)\n",
    "\n",
    "# --- 3. Split Data and Find Best Model with Grid Search ---\n",
    "print(\"Splitting data and finding the best model parameters with Grid Search...\")\n",
    "X_train, X_test, y_train, y_test = train_test_split(X_encoded, y, test_size=0.2, random_state=42, stratify=y)\n",
    "\n",
    "# *** THE FIX: Reduced the number of options to make the search run faster ***\n",
    "param_grid = {\n",
    "    'n_estimators': [100, 200],\n",
    "    'max_depth': [10, 20],\n",
    "    'min_samples_split': [2, 5],\n",
    "    'min_samples_leaf': [1, 2]\n",
    "}\n",
    "\n",
    "# Initialize the Grid Search with a Random Forest model\n",
    "grid_search = GridSearchCV(\n",
    "    estimator=RandomForestClassifier(random_state=42, n_jobs=-1),\n",
    "    param_grid=param_grid,\n",
    "    cv=3,\n",
    "    scoring='accuracy',\n",
    "    verbose=1 # Shows progress\n",
    ")\n",
    "\n",
    "# Fit Grid Search to the training data\n",
    "grid_search.fit(X_train, y_train)\n",
    "\n",
    "# Get the best model found by Grid Search\n",
    "best_model = grid_search.best_estimator_\n",
    "print(f\"\\nBest parameters found: {grid_search.best_params_}\")\n",
    "\n",
    "# --- 4. Check the Accuracy of the Best Model ---\n",
    "print(\"\\n--- Model Evaluation (using best model) ---\")\n",
    "y_pred = best_model.predict(X_test)\n",
    "accuracy = accuracy_score(y_test, y_pred)\n",
    "print(f\"Model Accuracy on Test Data: {accuracy:.2%}\")\n",
    "print(\"\\nClassification Report:\")\n",
    "print(classification_report(y_test, y_pred, zero_division=0))\n",
    "print(\"------------------------\\n\")\n",
    "\n",
    "# --- 5. Train Final Model and Save ---\n",
    "print(\"Training the final model on all data using the best parameters...\")\n",
    "final_model = grid_search.best_estimator_\n",
    "final_model.fit(X_encoded, y)\n",
    "\n",
    "# Save the model and columns to files\n",
    "joblib.dump(final_model, 'risk_model.pkl')\n",
    "model_columns = list(X_encoded.columns)\n",
    "joblib.dump(model_columns, 'model_columns.pkl')\n",
    "\n",
    "print(\"Final 'New Customer' model (Optimized Random Forest) and columns have been saved successfully!\")\n",
    "print(\"You can now run the 'dashboard.py' file.\")\n",
    "\n"
   ]
  },
  {
   "cell_type": "code",
   "execution_count": 5,
   "id": "3cbcab4d-ec0f-4576-a2da-b4b5743aa336",
   "metadata": {},
   "outputs": [
    {
     "name": "stdout",
     "output_type": "stream",
     "text": [
      "\n",
      "--- Feature Importance ---\n",
      "DTI_Ratio                         0.179852\n",
      "Loan_Burden_Index                 0.171488\n",
      "Age                               0.169885\n",
      "InterestRate                      0.168358\n",
      "TenureMonths                      0.148846\n",
      "EmploymentStatus_Unemployed       0.051247\n",
      "LoanType_Business                 0.021420\n",
      "LoanType_Education                0.019738\n",
      "LoanType_Home                     0.018548\n",
      "LoanType_Personal                 0.017735\n",
      "EmploymentStatus_Self-Employed    0.017365\n",
      "EmploymentStatus_Student          0.015519\n",
      "dtype: float64\n",
      "--------------------------\n",
      "\n"
     ]
    }
   ],
   "source": [
    "# *** NEW: Calculate and Display Feature Importance ***\n",
    "print(\"\\n--- Feature Importance ---\")\n",
    "feature_importances = pd.Series(final_model.feature_importances_, index=X_encoded.columns)\n",
    "feature_importances = feature_importances.sort_values(ascending=False)\n",
    "print(feature_importances)\n",
    "print(\"--------------------------\\n\")"
   ]
  },
  {
   "cell_type": "code",
   "execution_count": null,
   "id": "50364279-e5ae-4c25-a6a8-64e0b6171ed2",
   "metadata": {},
   "outputs": [],
   "source": []
  }
 ],
 "metadata": {
  "kernelspec": {
   "display_name": "Python 3 (ipykernel)",
   "language": "python",
   "name": "python3"
  },
  "language_info": {
   "codemirror_mode": {
    "name": "ipython",
    "version": 3
   },
   "file_extension": ".py",
   "mimetype": "text/x-python",
   "name": "python",
   "nbconvert_exporter": "python",
   "pygments_lexer": "ipython3",
   "version": "3.12.7"
  }
 },
 "nbformat": 4,
 "nbformat_minor": 5
}
